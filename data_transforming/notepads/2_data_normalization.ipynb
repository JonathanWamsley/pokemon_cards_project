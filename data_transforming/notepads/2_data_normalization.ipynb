{
 "cells": [
  {
   "cell_type": "markdown",
   "metadata": {},
   "source": [
    "## Create a table linking a given card to the pokemon inside it"
   ]
  },
  {
   "cell_type": "code",
   "execution_count": null,
   "metadata": {},
   "outputs": [],
   "source": [
    "pokemon_team_table = pd.DataFrame()\n",
    "pokemon_team_table['Card Id'] = pokemon['Card Id']\n",
    "pokemon_team_table['Pokemon 1'] = pokemon['Pokemon 1']\n",
    "pokemon_team_table['Pokemon 2'] = pokemon['Pokemon 2']\n",
    "pokemon_team_table['Pokemon 3'] = pokemon['Pokemon 3']"
   ]
  },
  {
   "cell_type": "code",
   "execution_count": null,
   "metadata": {},
   "outputs": [],
   "source": [
    "pokemon_1 = pokemon_team_table.loc[~pokemon_team_table['Pokemon 1'].isna(),['Card Id', 'Pokemon 1']].values\n",
    "pokemon_2 = pokemon_team_table.loc[~pokemon_team_table['Pokemon 2'].isna(),['Card Id', 'Pokemon 2']].values\n",
    "pokemon_3 = pokemon_team_table.loc[~pokemon_team_table['Pokemon 3'].isna(),['Card Id', 'Pokemon 3']].values\n",
    "pokemon_all = np.concatenate((pokemon_1, pokemon_2, pokemon_3))"
   ]
  },
  {
   "cell_type": "code",
   "execution_count": null,
   "metadata": {},
   "outputs": [],
   "source": [
    "pokemon_team_table_dim = pd.DataFrame(pokemon_all, columns = ['Card Id', 'Pokemon'])\n",
    "pokemon_team_table_dim.head()"
   ]
  },
  {
   "cell_type": "code",
   "execution_count": null,
   "metadata": {},
   "outputs": [],
   "source": [
    "unique_cards = len(pokemon_team_table_dim['Card Id'].unique())\n",
    "print(f' There are a total of {len(pokemon_team_table_dim)} entries with {unique_cards} which is the same as the original table {len(pokemon_team_table)}')"
   ]
  },
  {
   "cell_type": "code",
   "execution_count": null,
   "metadata": {},
   "outputs": [],
   "source": [
    "# every pokemon card belongs to a pokemon\n",
    "pokemon_team_table_dim[~pokemon_team_table_dim['Pokemon'].isin(pokemon_list_df['Pokemon Name'].str.lower())]"
   ]
  },
  {
   "cell_type": "markdown",
   "metadata": {},
   "source": [
    "### Creating Info table\n",
    "\n",
    ">   ### info_table_dim\n",
    "    info_id PK\n",
    "    stage\n",
    "    rarity\n",
    "    types_id FK\n",
    "    number\n",
    "    name\n",
    "\n",
    ">   ### types_table_dim\n",
    "    id PK\n",
    "    types_id\n",
    "    type_id FK\n",
    "\n",
    ">   ### type_dim\n",
    "    type_id FK\n",
    "    type"
   ]
  },
  {
   "cell_type": "code",
   "execution_count": null,
   "metadata": {},
   "outputs": [],
   "source": [
    "stage_dim = pokemon['Stage'].unique(), columns = ['Stage'])\n",
    "rarity_dim = pd.DataFrame(pokemon['Rarity'].unique(), columns = ['Rarity'])\n",
    "type_dim = pd.DataFrame(pokemon['Card Type'].unique(), columns = ['Card Type'])"
   ]
  },
  {
   "cell_type": "code",
   "execution_count": null,
   "metadata": {},
   "outputs": [],
   "source": [
    "pokemon_info_table = pd.DataFrame()\n",
    "pokemon_info_table['Card Id'] = pokemon['Card Name'].map(str) + pokemon['Set Name'].map(str) + pokemon['Card Number'].map(str)\n",
    "pokemon_info_table['Stage'] = pokemon['Stage']\n",
    "pokemon_info_table['Rarity'] = pokemon['Rarity']\n",
    "pokemon_info_table['Card Type'] = pokemon['Card Type']"
   ]
  },
  {
   "cell_type": "code",
   "execution_count": null,
   "metadata": {},
   "outputs": [],
   "source": [
    "info_table = pokemon.loc[:,['Card Name', 'Card Id', ]]"
   ]
  },
  {
   "cell_type": "markdown",
   "metadata": {},
   "source": [
    "Create sub tables\n",
    ">   ### pokemon_facts:\n",
    "    card_id surogate key of Card Name, Card Set and Card number\n",
    "    pokemon_team_id FK\n",
    "    info_id FK\n",
    "    name_id FK\n",
    "    set_id FK\n",
    "    number_id FK\n",
    "    \n",
    "    \n",
    "    \n",
    ">   ### pokedmon_team_table_dim:\n",
    "    id PK\n",
    "    pokemon_team_id\n",
    "    pokedex_num FK\n",
    "\n",
    ">   ### pokedex_dim\n",
    "    pokedex_num PK\n",
    "    pokemon_name\n",
    "\n",
    ">   ### info_table_dim\n",
    "    info_id PK\n",
    "    stage\n",
    "    rarity\n",
    "    types_id FK\n",
    "\n",
    "\n",
    ">   ### types_table_dim\n",
    "    id PK\n",
    "    types_id\n",
    "    type_id FK\n",
    "\n",
    ">   ### type_dim\n",
    "    type_id FK\n",
    "    type\n",
    "\n",
    ">   ### set_dim\n",
    "    set_id FK\n",
    "    set_name\n",
    "    set_release\n",
    "    set_abr\n",
    "\n",
    ">   ### price_dim\n",
    "    card_id FK\n",
    "    time_stamp\n",
    "    market_price\n",
    "    median_price\n",
    "    market_price_foil\n",
    "    median_price_foil\n",
    "    total_listed_cards\n",
    "\n",
    ">   ### stats_table_dim\n",
    "    stats_id PK\n",
    "    HP\n",
    "    retreat_cost\n",
    "    resistance\n",
    "    weakness\n",
    "    atk_stats_id FK\n",
    "    card_text_id FK\n",
    "\n",
    ">   ### atk_stats_dim\n",
    "    id PK\n",
    "    atk_stats_id \n",
    "    atk_id FK\n",
    "\n",
    ">   ### atk_dim\n",
    "    atk_id PK\n",
    "    atk_name\n",
    "    atk_description\n",
    "    atk_damage\n",
    "    atk_cost\n",
    "    atk_type\n",
    "\n",
    ">   ### card_text_dim\n",
    "    card_text_id PK\n",
    "    card_description\n",
    "\n",
    "\n",
    "have the main table have a Card_ID that points too\n",
    "\n",
    "Card_ID_dim\n",
    "id (surogate key)\n",
    "Card Name\n",
    "Card Set\n",
    "Card Number\n"
   ]
  },
  {
   "cell_type": "code",
   "execution_count": null,
   "metadata": {},
   "outputs": [],
   "source": []
  },
  {
   "cell_type": "code",
   "execution_count": null,
   "metadata": {},
   "outputs": [],
   "source": []
  },
  {
   "cell_type": "code",
   "execution_count": null,
   "metadata": {},
   "outputs": [],
   "source": []
  }
 ],
 "metadata": {
  "kernelspec": {
   "display_name": "Python 3",
   "language": "python",
   "name": "python3"
  },
  "language_info": {
   "codemirror_mode": {
    "name": "ipython",
    "version": 3
   },
   "file_extension": ".py",
   "mimetype": "text/x-python",
   "name": "python",
   "nbconvert_exporter": "python",
   "pygments_lexer": "ipython3",
   "version": "3.7.6"
  }
 },
 "nbformat": 4,
 "nbformat_minor": 4
}
