{
 "cells": [
  {
   "cell_type": "markdown",
   "metadata": {},
   "source": [
    "### Choosing a data model and query language\n",
    "\n",
    "There are many different ways to model the data, so instead the question is how are we going to use the data.  \n",
    "\n",
    "NoSQL Document DB:\n",
    "   - works great if my intended use is to create an API that returns all the relvant info of a given card\n",
    "   - is harder to index with many-to-many and many-to-one relationships\n",
    "    \n",
    "    \n",
    "However, if my goal is to analyze columns of data like HP or rarity against price, then a relational model would work well. \n",
    "\n",
    "in this case since most card details are not changing over time, this data base is considered to be slow changing dimensions (SCD). Only the prices are being changed daily.\n",
    "- Type 0: not going to change\n",
    "    - Most the of the card data is static (type 0: not going to change)\n",
    "- Type 1: overwrites the old information as it was incorect and not wanted in history\n",
    "    - i reported a lot of errors in cards text fields to tcg player\n",
    "- Type 2: add a new row to track history\n",
    "    - very unlikely to occur: Maybe if a card was place in an incorrect set and moved to a different set and I wanted to capture dates it was in the set\n",
    "- Type 3: add a new attribute\n",
    "    - very unlikely to occur: Maybe if a card was place in an incorrect set and move to a different sent and i wanted to capture it's first location and then its currently location in a column\n",
    "- Type 4: add history table\n",
    "    - could be very useful for capture card price over time\n",
    "- Type 5: 'Much like there is no thirteenth floor in most buildings, there is no SCD Type 5.' - wiki\n",
    "- Type 6: Combined Approach\n",
    "    - normally used with 1, 2, 3 types. the 4th type best suits my needs an others are very unlikely to occur\n",
    "   \n",
    "If my information is mostly static, do i need to bother updating it?\n",
    "I really just need to look to see if there i an expansion in the pokemon cards data and update those values.\n",
    "Otherwise I can create a surrogate key to identify a card and its price and date\n",
    "\n",
    "* Note these SCD techniques where develop when storage was not cheap like it is today"
   ]
  },
  {
   "cell_type": "code",
   "execution_count": null,
   "metadata": {},
   "outputs": [],
   "source": []
  }
 ],
 "metadata": {
  "kernelspec": {
   "display_name": "Python 3",
   "language": "python",
   "name": "python3"
  },
  "language_info": {
   "codemirror_mode": {
    "name": "ipython",
    "version": 3
   },
   "file_extension": ".py",
   "mimetype": "text/x-python",
   "name": "python",
   "nbconvert_exporter": "python",
   "pygments_lexer": "ipython3",
   "version": "3.7.6"
  }
 },
 "nbformat": 4,
 "nbformat_minor": 4
}
